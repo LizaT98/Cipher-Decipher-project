{
 "cells": [
  {
   "cell_type": "code",
   "execution_count": 1,
   "id": "39372064",
   "metadata": {
    "scrolled": true
   },
   "outputs": [
    {
     "name": "stdout",
     "output_type": "stream",
     "text": [
      "Type 'encode' or 'decode': encode\n",
      "Type your message:hello world\n",
      "Type the shift number: 5\n",
      "Your encoded result: mjqqt btwqi\n",
      "Enter 'y' if you want to try again, type'n' if you wish to exit Caesar's Cipher: \n",
      "y\n",
      "Type 'encode' or 'decode': decode\n",
      "Type your message:mjqqt btwqi\n",
      "Type the shift number: 5\n",
      "Your encoded result: hello world\n",
      "Enter 'y' if you want to try again, type'n' if you wish to exit Caesar's Cipher: \n",
      "n\n",
      "Thank you for using Caesar's Cipher! Goodbye!\n"
     ]
    }
   ],
   "source": [
    "#THE FINAL VERSION!\n",
    "# the other way to continue asking the user if they want to try again (less code than above, using while loop)\n",
    "\n",
    "alphabet = ['a', 'b', 'c', 'd', 'e', 'f', 'g', 'h', 'i', 'j', 'k', 'l', 'm', 'n', 'o', 'p', 'q', 'r', 's', 't', 'u', 'v', 'w', 'x', 'y', 'z']\n",
    "  \n",
    "def caesar_cipher(encode_or_decode, text, shift_amount):\n",
    "    output_text = ''\n",
    "\n",
    "    #The shift_amount is modified based on whether you're encoding or decoding before the loop. \n",
    "    #This ensures that you use a consistent shift for each letter in the message.\n",
    "    \n",
    "    if encode_or_decode == 'decode':\n",
    "        shift_amount*= -1\n",
    "        \n",
    "    for letter in text:\n",
    "    #in case a user enters the characters that are not letters on the alphabet list \n",
    "    #(e.g. numbers, special characters, set a condition to return the same symbol togetehr with the shifted letters)\n",
    "        \n",
    "        if letter not in alphabet:\n",
    "            output_text += letter\n",
    "            \n",
    "    # for the rest of cases when the user inputs only the letters from alphabet, set an else condition:\n",
    "        else:\n",
    "\n",
    "            index_shifted = alphabet.index(letter) + shift_amount\n",
    "            index_shifted %= len(alphabet) #index = alphabet.index('z')  # This returns 25 (0-based index)\n",
    "            \n",
    "            # index_shifted = index + 1  # 25 + 1 = 26\n",
    "            # Here, 26 is outside the range of the alphabet (which has indices 0 to 25)\n",
    "            # index_shifted %= len(alphabet)  # 26 % 26 = 0\n",
    "            # index_shifted becomes 0, which corresponds to a in the alphabet.\n",
    "            #So, shifting z by 1 gives us a, as expected.\n",
    "            \n",
    "            # !!!!  when we use modulo from a negative number x to a bigger positive number y, it will equal \n",
    "            # y+x, eg -1%26 = 25\n",
    "\n",
    "\n",
    "            output_text+= alphabet[index_shifted]\n",
    "\n",
    "    print(f'Your encoded result: {output_text}')\n",
    "\n",
    "# Write a while loop to restart the function again if the user wishes or to exit the function\n",
    "\n",
    "try_again = True\n",
    "    \n",
    "while try_again:\n",
    "    \n",
    "    direction = input(\"Type \\'encode' or 'decode': \" ).lower()\n",
    "    message = input('Type your message:').lower() \n",
    "    shift = int(input('Type the shift number: '))\n",
    "\n",
    "    caesar_cipher(encode_or_decode=direction, text=message, shift_amount=shift)\n",
    "    \n",
    "    restart = input(\"Enter 'y' if you want to try again, type'n' if you wish to exit Caesar\\'s Cipher: \\n\").lower()\n",
    "    if restart == 'n':\n",
    "        try_again = False\n",
    "        print('Thank you for using Caesar\\'s Cipher! Goodbye!')\n",
    "    \n",
    "\n"
   ]
  },
  {
   "cell_type": "code",
   "execution_count": null,
   "id": "8389916a",
   "metadata": {},
   "outputs": [],
   "source": []
  }
 ],
 "metadata": {
  "kernelspec": {
   "display_name": "Python 3 (ipykernel)",
   "language": "python",
   "name": "python3"
  },
  "language_info": {
   "codemirror_mode": {
    "name": "ipython",
    "version": 3
   },
   "file_extension": ".py",
   "mimetype": "text/x-python",
   "name": "python",
   "nbconvert_exporter": "python",
   "pygments_lexer": "ipython3",
   "version": "3.9.12"
  }
 },
 "nbformat": 4,
 "nbformat_minor": 5
}
